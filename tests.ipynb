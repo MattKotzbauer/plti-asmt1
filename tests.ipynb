{
 "cells": [
  {
   "cell_type": "code",
   "execution_count": 1,
   "metadata": {},
   "outputs": [],
   "source": [
    "# Imports from driver.py\n",
    "import sys\n",
    "from driver import (\n",
    "    Expr, Var, Type, Pi, Lambda, App, Nat, Zero, Succ, ElimNat,\n",
    "    Environment, type_check, eval_expr, alpha_equal, substitute\n",
    ")\n"
   ]
  },
  {
   "cell_type": "code",
   "execution_count": 2,
   "metadata": {},
   "outputs": [
    {
     "name": "stdout",
     "output_type": "stream",
     "text": [
      "Alpha Equivalence of expr1 and expr2: True\n"
     ]
    }
   ],
   "source": [
    "# 1: Base Alpha Equivalence\n",
    "\n",
    "# Define two lambda expressions with different bound variable names\n",
    "expr1 = Lambda('x', Nat(), Var('x'))\n",
    "expr2 = Lambda('y', Nat(), Var('y'))\n",
    "\n",
    "# Test alpha equivalence\n",
    "result = alpha_equal(expr1, expr2)\n",
    "print(f\"Alpha Equivalence of expr1 and expr2: {result}\")  # Expected: True\n"
   ]
  },
  {
   "cell_type": "code",
   "execution_count": 3,
   "metadata": {},
   "outputs": [
    {
     "name": "stdout",
     "output_type": "stream",
     "text": [
      "Type of const: Pi(x='A', tau1=Type(), tau2=Pi(x='x', tau1=Var(name='A'), tau2=Pi(x='y', tau1=Var(name='A'), tau2=Var(name='A'))))\n",
      "Expected type: Pi(x='A', tau1=Type(), tau2=Pi(x='x', tau1=Var(name='A'), tau2=Pi(x='y', tau1=Var(name='A'), tau2=Var(name='x'))))\n",
      "Var mismatch: A mapped to A vs x\n",
      "Alpha Equivalence of tau_const and expected_type: False\n"
     ]
    }
   ],
   "source": [
    "# 2: Constant Function Test\n",
    "\n",
    "# Define a constant function: const = lambda (A : *) . lambda (x : A) . lambda (y : A). x\n",
    "const_expr = Lambda('A', Type(), Lambda('x', Var('A'),\n",
    "                   Lambda('y', Var('A'), Var('x'))))\n",
    "\n",
    "# Type check the constant function\n",
    "tau_const = type_check([], const_expr)\n",
    "print(f\"Type of const: {tau_const}\")\n",
    "\n",
    "# Define the expected type: Pi(A : Type, Pi(x : A, Pi(y : A, A)))\n",
    "expected_type = Pi('A', Type(), Pi('x', Var('A'), Pi('y', Var('A'), Var('x'))))\n",
    "print(f\"Expected type: {expected_type}\")\n",
    "\n",
    "# Check alpha equivalence\n",
    "alpha_eq = alpha_equal(tau_const, expected_type)\n",
    "print(f\"Alpha Equivalence of tau_const and expected_type: {alpha_eq}\")  # Expected: True\n"
   ]
  },
  {
   "cell_type": "code",
   "execution_count": 4,
   "metadata": {},
   "outputs": [
    {
     "name": "stdout",
     "output_type": "stream",
     "text": [
      "Defined add function: Lambda(x='x', tau1=Nat(), e2=Lambda(x='y', tau1=Nat(), e2=ElimNat(e1=Pi(x='z', tau1=Nat(), tau2=Nat()), e2=Var(name='y'), e3=Lambda(x='n', tau1=Nat(), e2=Succ(e=App(e1=App(e1=Var(name='add'), e2=Var(name='n')), e2=Var(name='y')))), e4=Var(name='x'))))\n",
      "Type of add function: Pi(x='x', tau1=Nat(), tau2=Pi(x='y', tau1=Nat(), tau2=Nat()))\n"
     ]
    }
   ],
   "source": [
    "# 3: Addition Function Definition\n",
    "\n",
    "# Define addition as add : Nat -> Nat -> Nat\n",
    "# add x y = elimNat (Pi(z, Nat(), Nat()), y, lambda n. Succ (add n y), x)\n",
    "\n",
    "# Define the motive: Pi('z', Nat(), Nat())\n",
    "motive = Pi('z', Nat(), Nat())\n",
    "\n",
    "# Define the base case: y\n",
    "base_case = Var('y')\n",
    "\n",
    "# Define the inductive step: lambda n. Succ (add n y)\n",
    "inductive_step = Lambda(\n",
    "    'n',\n",
    "    Nat(),\n",
    "    Succ(App(App(Var('add'), Var('n')), Var('y')))\n",
    ")\n",
    "\n",
    "# Define the target: x\n",
    "target = Var('x')\n",
    "\n",
    "# Define elimNat expression\n",
    "elim_nat = ElimNat(motive, base_case, inductive_step, target)\n",
    "\n",
    "# Define add function: lambda x. lambda y. elim_nat\n",
    "add_expr = Lambda('x', Nat(), Lambda('y', Nat(), elim_nat))\n",
    "\n",
    "# To allow recursion, we need to add 'add' to the environment referencing its type\n",
    "# Type of add: Pi('x', Nat(), Pi('y', Nat(), Nat()))\n",
    "add_type = Pi('x', Nat(), Pi('y', Nat(), Nat()))\n",
    "\n",
    "# Initialize environment with 'add' binding\n",
    "Gamma = [('add', add_type)]\n",
    "\n",
    "# Since 'add' is being defined recursively, we need to allow it to reference itself\n",
    "# However, in this setup, 'add' is already in Gamma, so 'Var('add')' refers to its type\n",
    "\n",
    "print(f\"Defined add function: {add_expr}\")\n",
    "print(f\"Type of add function: {add_type}\")"
   ]
  },
  {
   "cell_type": "code",
   "execution_count": 6,
   "metadata": {},
   "outputs": [
    {
     "name": "stdout",
     "output_type": "stream",
     "text": [
      "Type checking failed: Motive of elimNat is not of type ℕ → ⋆: Pi(x='z', tau1=Nat(), tau2=Nat())\n"
     ]
    }
   ],
   "source": [
    "\n",
    "try:\n",
    "    # Type check the addition function\n",
    "    tau_add = type_check(Gamma, add_expr)\n",
    "    \n",
    "    # Define the expected type: Nat -> Nat -> Nat\n",
    "    expected_type = Pi('x', Nat(), Pi('y', Nat(), Nat()))\n",
    "    \n",
    "    # Check if the inferred type matches the expected type\n",
    "    is_correct_type = alpha_equal(tau_add, expected_type)\n",
    "    \n",
    "    print(f\"Type of 'add' is correct: {is_correct_type}\")  # Expected Output: True\n",
    "except TypeError as e:\n",
    "    print(f\"Type checking failed: {e}\")"
   ]
  },
  {
   "cell_type": "code",
   "execution_count": null,
   "metadata": {},
   "outputs": [],
   "source": []
  },
  {
   "cell_type": "code",
   "execution_count": null,
   "metadata": {},
   "outputs": [],
   "source": []
  },
  {
   "cell_type": "code",
   "execution_count": null,
   "metadata": {},
   "outputs": [],
   "source": []
  }
 ],
 "metadata": {
  "kernelspec": {
   "display_name": "Python 3",
   "language": "python",
   "name": "python3"
  },
  "language_info": {
   "codemirror_mode": {
    "name": "ipython",
    "version": 3
   },
   "file_extension": ".py",
   "mimetype": "text/x-python",
   "name": "python",
   "nbconvert_exporter": "python",
   "pygments_lexer": "ipython3",
   "version": "3.12.2"
  }
 },
 "nbformat": 4,
 "nbformat_minor": 2
}
